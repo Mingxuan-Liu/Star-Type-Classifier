{
 "cells": [
  {
   "cell_type": "code",
   "execution_count": 1,
   "metadata": {
    "collapsed": true,
    "pycharm": {
     "name": "#%%\n"
    }
   },
   "outputs": [],
   "source": [
    "import numpy as np\n",
    "import pandas as pd"
   ]
  },
  {
   "cell_type": "code",
   "execution_count": 2,
   "outputs": [
    {
     "name": "stdout",
     "output_type": "stream",
     "text": [
      "(105782, 1)\n"
     ]
    }
   ],
   "source": [
    "# read the .dat file from the same directory\n",
    "qso = pd.read_csv('dr7qso.dat')\n",
    "print(np.shape(qso))"
   ],
   "metadata": {
    "collapsed": false,
    "pycharm": {
     "name": "#%%\n"
    }
   }
  },
  {
   "cell_type": "code",
   "execution_count": 3,
   "outputs": [
    {
     "name": "stdout",
     "output_type": "stream",
     "text": [
      "  000006.53+003055.2   0.027228   0.515341 1.8246 20.384 0.065 20.461 0.034 20.324 0.038 20.093 0.041 20.042 0.121  0.130 20.508  0.000   0.000  0.000  -9.000  0.000  0.000  0.000 0.000  0.000 0.000  0.000 0.000  0.000  0 -25.109  0.091  0  0  1  0    34603008  0  0  0  0  1  0  0  3325 52522 52203  685  467  41  5  108  118    34603008  0  0  0  0  1  0  0 20.384 0.065 20.461 0.034 20.324 0.038 20.093 0.041 20.042 0.121   588015509806252150   193034571183292416 SDSS J000006.53+003055.2 \n",
      "0  000008.13+001634.6   0.033900   0.276301 1.837...                                                                                                                                                                                                                                                                                                                                                                                                                                                        \n",
      "1  000009.26+151754.5   0.038604  15.298477 1.198...                                                                                                                                                                                                                                                                                                                                                                                                                                                        \n",
      "2  000009.38+135618.4   0.039089  13.938450 2.234...                                                                                                                                                                                                                                                                                                                                                                                                                                                        \n",
      "3  000009.42-102751.9   0.039271 -10.464426 1.844...                                                                                                                                                                                                                                                                                                                                                                                                                                                        \n",
      "4  000011.41+145545.6   0.047549  14.929355 0.459...                                                                                                                                                                                                                                                                                                                                                                                                                                                        \n"
     ]
    }
   ],
   "source": [
    "print(qso.head())"
   ],
   "metadata": {
    "collapsed": false,
    "pycharm": {
     "name": "#%%\n"
    }
   }
  }
 ],
 "metadata": {
  "kernelspec": {
   "display_name": "Python 3",
   "language": "python",
   "name": "python3"
  },
  "language_info": {
   "codemirror_mode": {
    "name": "ipython",
    "version": 2
   },
   "file_extension": ".py",
   "mimetype": "text/x-python",
   "name": "python",
   "nbconvert_exporter": "python",
   "pygments_lexer": "ipython2",
   "version": "2.7.6"
  }
 },
 "nbformat": 4,
 "nbformat_minor": 0
}