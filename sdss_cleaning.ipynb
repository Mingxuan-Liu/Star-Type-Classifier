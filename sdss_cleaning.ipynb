{
 "cells": [
  {
   "cell_type": "code",
   "execution_count": 42,
   "metadata": {
    "collapsed": true,
    "pycharm": {
     "name": "#%%\n"
    }
   },
   "outputs": [],
   "source": [
    "import matplotlib.pyplot as plt\n",
    "import numpy as np\n",
    "import pandas as pd\n",
    "from scipy import stats\n",
    "from sklearn.feature_selection import mutual_info_classif"
   ]
  },
  {
   "cell_type": "code",
   "execution_count": 30,
   "outputs": [
    {
     "name": "stdout",
     "output_type": "stream",
     "text": [
      "Dimensionality: 2038848\n"
     ]
    },
    {
     "data": {
      "text/plain": "       plate    mjd  fiberid         z      zErr  zWarning   class  \\\n0       1505  52941      156  0.389562  0.000067         0  GALAXY   \n1       2851  54485      486  0.000795  0.000011         0    STAR   \n2       1555  53287      158  0.379204  0.000077         0  GALAXY   \n3        701  52179      426  0.379125  0.000117         0  GALAXY   \n4        701  52179      195  0.381811  0.000114         0  GALAXY   \n...      ...    ...      ...       ...       ...       ...     ...   \n84947   1909  53261      565 -0.001109  0.000077         0    STAR   \n84948   1116  52932      489  0.000013  0.000023         0    STAR   \n84949   1908  53239      618 -0.001138  0.000010         0    STAR   \n84950   1022  52524      452  0.219960  0.000016         0  GALAXY   \n84951   1909  53261      579 -0.000066  0.000026         0    STAR   \n\n                 bestObjID    objType   run  ...   psfMag_u   psfMag_g  \\\n0      1237663784210530517  NONLEGACY  4263  ...  23.125439  21.790100   \n1      1237663784210530324  NONLEGACY  4263  ...  17.430862  16.606251   \n2      1237663784210530536  NONLEGACY  4263  ...  23.658684  21.878881   \n3      1237663784210530623  NONLEGACY  4263  ...  24.913301  22.357603   \n4      1237663784210531294  NONLEGACY  4263  ...  24.833059  22.404722   \n...                    ...        ...   ...  ...        ...        ...   \n84947  1237663544211736109  NONLEGACY  4207  ...  21.239357  20.240782   \n84948  1237663544211736747  NONLEGACY  4207  ...  23.282341  21.154026   \n84949  1237663544211800085  NONLEGACY  4207  ...  18.428312  17.006844   \n84950  1237663544211801418  NONLEGACY  4207  ...  22.127785  20.882309   \n84951  1237663544211801787  NONLEGACY  4207  ...  23.110277  20.844858   \n\n        psfMag_r   psfMag_i   psfMag_z  petroMag_u  petroMag_g  petroMag_r  \\\n0      20.101208  19.489414  19.024839   21.797628   20.614769   19.116451   \n1      16.266584  16.134212  16.120159   17.541275   16.625443   16.326315   \n2      19.953222  19.325336  18.858727   20.516718   20.508654   18.500441   \n3      20.705986  19.984390  19.710501   24.590675   20.440012   19.447878   \n4      20.614035  20.048290  19.560736   22.215349   20.974915   19.512709   \n...          ...        ...        ...         ...         ...         ...   \n84947  19.922716  19.754583  19.715046   21.249580   20.297592   20.018015   \n84948  19.759577  19.211868  18.812143   23.476542   21.261414   19.869307   \n84949  16.344975  16.033613  15.819430   18.453526   17.065052   16.357840   \n84950  20.053568  19.667034  19.188293   20.659279   19.663300   18.849623   \n84951  20.146984  19.810287  19.575218   24.624086   20.870701   20.142569   \n\n       petroMag_i  petroMag_z  \n0       18.525537   18.100412  \n1       16.203777   16.185209  \n2       17.840191   17.591818  \n3       18.827709   18.500956  \n4       18.837957   18.233456  \n...           ...         ...  \n84947   19.885736   19.867411  \n84948   19.248789   18.833431  \n84949   16.051132   15.877373  \n84950   18.465277   18.644720  \n84951   19.859249   19.696976  \n\n[84952 rows x 24 columns]",
      "text/html": "<div>\n<style scoped>\n    .dataframe tbody tr th:only-of-type {\n        vertical-align: middle;\n    }\n\n    .dataframe tbody tr th {\n        vertical-align: top;\n    }\n\n    .dataframe thead th {\n        text-align: right;\n    }\n</style>\n<table border=\"1\" class=\"dataframe\">\n  <thead>\n    <tr style=\"text-align: right;\">\n      <th></th>\n      <th>plate</th>\n      <th>mjd</th>\n      <th>fiberid</th>\n      <th>z</th>\n      <th>zErr</th>\n      <th>zWarning</th>\n      <th>class</th>\n      <th>bestObjID</th>\n      <th>objType</th>\n      <th>run</th>\n      <th>...</th>\n      <th>psfMag_u</th>\n      <th>psfMag_g</th>\n      <th>psfMag_r</th>\n      <th>psfMag_i</th>\n      <th>psfMag_z</th>\n      <th>petroMag_u</th>\n      <th>petroMag_g</th>\n      <th>petroMag_r</th>\n      <th>petroMag_i</th>\n      <th>petroMag_z</th>\n    </tr>\n  </thead>\n  <tbody>\n    <tr>\n      <th>0</th>\n      <td>1505</td>\n      <td>52941</td>\n      <td>156</td>\n      <td>0.389562</td>\n      <td>0.000067</td>\n      <td>0</td>\n      <td>GALAXY</td>\n      <td>1237663784210530517</td>\n      <td>NONLEGACY</td>\n      <td>4263</td>\n      <td>...</td>\n      <td>23.125439</td>\n      <td>21.790100</td>\n      <td>20.101208</td>\n      <td>19.489414</td>\n      <td>19.024839</td>\n      <td>21.797628</td>\n      <td>20.614769</td>\n      <td>19.116451</td>\n      <td>18.525537</td>\n      <td>18.100412</td>\n    </tr>\n    <tr>\n      <th>1</th>\n      <td>2851</td>\n      <td>54485</td>\n      <td>486</td>\n      <td>0.000795</td>\n      <td>0.000011</td>\n      <td>0</td>\n      <td>STAR</td>\n      <td>1237663784210530324</td>\n      <td>NONLEGACY</td>\n      <td>4263</td>\n      <td>...</td>\n      <td>17.430862</td>\n      <td>16.606251</td>\n      <td>16.266584</td>\n      <td>16.134212</td>\n      <td>16.120159</td>\n      <td>17.541275</td>\n      <td>16.625443</td>\n      <td>16.326315</td>\n      <td>16.203777</td>\n      <td>16.185209</td>\n    </tr>\n    <tr>\n      <th>2</th>\n      <td>1555</td>\n      <td>53287</td>\n      <td>158</td>\n      <td>0.379204</td>\n      <td>0.000077</td>\n      <td>0</td>\n      <td>GALAXY</td>\n      <td>1237663784210530536</td>\n      <td>NONLEGACY</td>\n      <td>4263</td>\n      <td>...</td>\n      <td>23.658684</td>\n      <td>21.878881</td>\n      <td>19.953222</td>\n      <td>19.325336</td>\n      <td>18.858727</td>\n      <td>20.516718</td>\n      <td>20.508654</td>\n      <td>18.500441</td>\n      <td>17.840191</td>\n      <td>17.591818</td>\n    </tr>\n    <tr>\n      <th>3</th>\n      <td>701</td>\n      <td>52179</td>\n      <td>426</td>\n      <td>0.379125</td>\n      <td>0.000117</td>\n      <td>0</td>\n      <td>GALAXY</td>\n      <td>1237663784210530623</td>\n      <td>NONLEGACY</td>\n      <td>4263</td>\n      <td>...</td>\n      <td>24.913301</td>\n      <td>22.357603</td>\n      <td>20.705986</td>\n      <td>19.984390</td>\n      <td>19.710501</td>\n      <td>24.590675</td>\n      <td>20.440012</td>\n      <td>19.447878</td>\n      <td>18.827709</td>\n      <td>18.500956</td>\n    </tr>\n    <tr>\n      <th>4</th>\n      <td>701</td>\n      <td>52179</td>\n      <td>195</td>\n      <td>0.381811</td>\n      <td>0.000114</td>\n      <td>0</td>\n      <td>GALAXY</td>\n      <td>1237663784210531294</td>\n      <td>NONLEGACY</td>\n      <td>4263</td>\n      <td>...</td>\n      <td>24.833059</td>\n      <td>22.404722</td>\n      <td>20.614035</td>\n      <td>20.048290</td>\n      <td>19.560736</td>\n      <td>22.215349</td>\n      <td>20.974915</td>\n      <td>19.512709</td>\n      <td>18.837957</td>\n      <td>18.233456</td>\n    </tr>\n    <tr>\n      <th>...</th>\n      <td>...</td>\n      <td>...</td>\n      <td>...</td>\n      <td>...</td>\n      <td>...</td>\n      <td>...</td>\n      <td>...</td>\n      <td>...</td>\n      <td>...</td>\n      <td>...</td>\n      <td>...</td>\n      <td>...</td>\n      <td>...</td>\n      <td>...</td>\n      <td>...</td>\n      <td>...</td>\n      <td>...</td>\n      <td>...</td>\n      <td>...</td>\n      <td>...</td>\n      <td>...</td>\n    </tr>\n    <tr>\n      <th>84947</th>\n      <td>1909</td>\n      <td>53261</td>\n      <td>565</td>\n      <td>-0.001109</td>\n      <td>0.000077</td>\n      <td>0</td>\n      <td>STAR</td>\n      <td>1237663544211736109</td>\n      <td>NONLEGACY</td>\n      <td>4207</td>\n      <td>...</td>\n      <td>21.239357</td>\n      <td>20.240782</td>\n      <td>19.922716</td>\n      <td>19.754583</td>\n      <td>19.715046</td>\n      <td>21.249580</td>\n      <td>20.297592</td>\n      <td>20.018015</td>\n      <td>19.885736</td>\n      <td>19.867411</td>\n    </tr>\n    <tr>\n      <th>84948</th>\n      <td>1116</td>\n      <td>52932</td>\n      <td>489</td>\n      <td>0.000013</td>\n      <td>0.000023</td>\n      <td>0</td>\n      <td>STAR</td>\n      <td>1237663544211736747</td>\n      <td>NONLEGACY</td>\n      <td>4207</td>\n      <td>...</td>\n      <td>23.282341</td>\n      <td>21.154026</td>\n      <td>19.759577</td>\n      <td>19.211868</td>\n      <td>18.812143</td>\n      <td>23.476542</td>\n      <td>21.261414</td>\n      <td>19.869307</td>\n      <td>19.248789</td>\n      <td>18.833431</td>\n    </tr>\n    <tr>\n      <th>84949</th>\n      <td>1908</td>\n      <td>53239</td>\n      <td>618</td>\n      <td>-0.001138</td>\n      <td>0.000010</td>\n      <td>0</td>\n      <td>STAR</td>\n      <td>1237663544211800085</td>\n      <td>NONLEGACY</td>\n      <td>4207</td>\n      <td>...</td>\n      <td>18.428312</td>\n      <td>17.006844</td>\n      <td>16.344975</td>\n      <td>16.033613</td>\n      <td>15.819430</td>\n      <td>18.453526</td>\n      <td>17.065052</td>\n      <td>16.357840</td>\n      <td>16.051132</td>\n      <td>15.877373</td>\n    </tr>\n    <tr>\n      <th>84950</th>\n      <td>1022</td>\n      <td>52524</td>\n      <td>452</td>\n      <td>0.219960</td>\n      <td>0.000016</td>\n      <td>0</td>\n      <td>GALAXY</td>\n      <td>1237663544211801418</td>\n      <td>NONLEGACY</td>\n      <td>4207</td>\n      <td>...</td>\n      <td>22.127785</td>\n      <td>20.882309</td>\n      <td>20.053568</td>\n      <td>19.667034</td>\n      <td>19.188293</td>\n      <td>20.659279</td>\n      <td>19.663300</td>\n      <td>18.849623</td>\n      <td>18.465277</td>\n      <td>18.644720</td>\n    </tr>\n    <tr>\n      <th>84951</th>\n      <td>1909</td>\n      <td>53261</td>\n      <td>579</td>\n      <td>-0.000066</td>\n      <td>0.000026</td>\n      <td>0</td>\n      <td>STAR</td>\n      <td>1237663544211801787</td>\n      <td>NONLEGACY</td>\n      <td>4207</td>\n      <td>...</td>\n      <td>23.110277</td>\n      <td>20.844858</td>\n      <td>20.146984</td>\n      <td>19.810287</td>\n      <td>19.575218</td>\n      <td>24.624086</td>\n      <td>20.870701</td>\n      <td>20.142569</td>\n      <td>19.859249</td>\n      <td>19.696976</td>\n    </tr>\n  </tbody>\n</table>\n<p>84952 rows × 24 columns</p>\n</div>"
     },
     "execution_count": 30,
     "metadata": {},
     "output_type": "execute_result"
    }
   ],
   "source": [
    "# the .csv files follow the pattern \"SDSS (n).csv\" and are numbered from 1 to 17\n",
    "file_pattern = \"SDSS ({num}).csv\"\n",
    "file_numbers = range(1, 18)\n",
    "\n",
    "# Generate the full file paths\n",
    "files = [file_pattern.format(num=num) for num in file_numbers]\n",
    "\n",
    "# Next, concatenate these files\n",
    "sdss_combined = pd.DataFrame()\n",
    "\n",
    "for file in files:\n",
    "    # Read the current CSV file into a DataFrame\n",
    "    sdss = pd.read_csv(file)\n",
    "\n",
    "    # Concatenate each sdss query into a single dataframe\n",
    "    sdss_combined = pd.concat([sdss_combined, sdss], ignore_index=True)\n",
    "\n",
    "# Print the total dimensionality\n",
    "print(f\"Dimensionality: {np.shape(sdss_combined)[0] * np.shape(sdss_combined)[1]}\")\n",
    "sdss_combined"
   ],
   "metadata": {
    "collapsed": false,
    "pycharm": {
     "name": "#%%\n"
    }
   }
  },
  {
   "cell_type": "code",
   "execution_count": 31,
   "outputs": [
    {
     "data": {
      "text/plain": "              z   class   psfMag_u   psfMag_g   psfMag_r   psfMag_i  \\\n0      0.389562  GALAXY  23.125439  21.790100  20.101208  19.489414   \n1      0.000795    STAR  17.430862  16.606251  16.266584  16.134212   \n2      0.379204  GALAXY  23.658684  21.878881  19.953222  19.325336   \n3      0.379125  GALAXY  24.913301  22.357603  20.705986  19.984390   \n4      0.381811  GALAXY  24.833059  22.404722  20.614035  20.048290   \n...         ...     ...        ...        ...        ...        ...   \n84947 -0.001109    STAR  21.239357  20.240782  19.922716  19.754583   \n84948  0.000013    STAR  23.282341  21.154026  19.759577  19.211868   \n84949 -0.001138    STAR  18.428312  17.006844  16.344975  16.033613   \n84950  0.219960  GALAXY  22.127785  20.882309  20.053568  19.667034   \n84951 -0.000066    STAR  23.110277  20.844858  20.146984  19.810287   \n\n        psfMag_z  petroMag_u  petroMag_g  petroMag_r  petroMag_i  petroMag_z  \n0      19.024839   21.797628   20.614769   19.116451   18.525537   18.100412  \n1      16.120159   17.541275   16.625443   16.326315   16.203777   16.185209  \n2      18.858727   20.516718   20.508654   18.500441   17.840191   17.591818  \n3      19.710501   24.590675   20.440012   19.447878   18.827709   18.500956  \n4      19.560736   22.215349   20.974915   19.512709   18.837957   18.233456  \n...          ...         ...         ...         ...         ...         ...  \n84947  19.715046   21.249580   20.297592   20.018015   19.885736   19.867411  \n84948  18.812143   23.476542   21.261414   19.869307   19.248789   18.833431  \n84949  15.819430   18.453526   17.065052   16.357840   16.051132   15.877373  \n84950  19.188293   20.659279   19.663300   18.849623   18.465277   18.644720  \n84951  19.575218   24.624086   20.870701   20.142569   19.859249   19.696976  \n\n[84952 rows x 12 columns]",
      "text/html": "<div>\n<style scoped>\n    .dataframe tbody tr th:only-of-type {\n        vertical-align: middle;\n    }\n\n    .dataframe tbody tr th {\n        vertical-align: top;\n    }\n\n    .dataframe thead th {\n        text-align: right;\n    }\n</style>\n<table border=\"1\" class=\"dataframe\">\n  <thead>\n    <tr style=\"text-align: right;\">\n      <th></th>\n      <th>z</th>\n      <th>class</th>\n      <th>psfMag_u</th>\n      <th>psfMag_g</th>\n      <th>psfMag_r</th>\n      <th>psfMag_i</th>\n      <th>psfMag_z</th>\n      <th>petroMag_u</th>\n      <th>petroMag_g</th>\n      <th>petroMag_r</th>\n      <th>petroMag_i</th>\n      <th>petroMag_z</th>\n    </tr>\n  </thead>\n  <tbody>\n    <tr>\n      <th>0</th>\n      <td>0.389562</td>\n      <td>GALAXY</td>\n      <td>23.125439</td>\n      <td>21.790100</td>\n      <td>20.101208</td>\n      <td>19.489414</td>\n      <td>19.024839</td>\n      <td>21.797628</td>\n      <td>20.614769</td>\n      <td>19.116451</td>\n      <td>18.525537</td>\n      <td>18.100412</td>\n    </tr>\n    <tr>\n      <th>1</th>\n      <td>0.000795</td>\n      <td>STAR</td>\n      <td>17.430862</td>\n      <td>16.606251</td>\n      <td>16.266584</td>\n      <td>16.134212</td>\n      <td>16.120159</td>\n      <td>17.541275</td>\n      <td>16.625443</td>\n      <td>16.326315</td>\n      <td>16.203777</td>\n      <td>16.185209</td>\n    </tr>\n    <tr>\n      <th>2</th>\n      <td>0.379204</td>\n      <td>GALAXY</td>\n      <td>23.658684</td>\n      <td>21.878881</td>\n      <td>19.953222</td>\n      <td>19.325336</td>\n      <td>18.858727</td>\n      <td>20.516718</td>\n      <td>20.508654</td>\n      <td>18.500441</td>\n      <td>17.840191</td>\n      <td>17.591818</td>\n    </tr>\n    <tr>\n      <th>3</th>\n      <td>0.379125</td>\n      <td>GALAXY</td>\n      <td>24.913301</td>\n      <td>22.357603</td>\n      <td>20.705986</td>\n      <td>19.984390</td>\n      <td>19.710501</td>\n      <td>24.590675</td>\n      <td>20.440012</td>\n      <td>19.447878</td>\n      <td>18.827709</td>\n      <td>18.500956</td>\n    </tr>\n    <tr>\n      <th>4</th>\n      <td>0.381811</td>\n      <td>GALAXY</td>\n      <td>24.833059</td>\n      <td>22.404722</td>\n      <td>20.614035</td>\n      <td>20.048290</td>\n      <td>19.560736</td>\n      <td>22.215349</td>\n      <td>20.974915</td>\n      <td>19.512709</td>\n      <td>18.837957</td>\n      <td>18.233456</td>\n    </tr>\n    <tr>\n      <th>...</th>\n      <td>...</td>\n      <td>...</td>\n      <td>...</td>\n      <td>...</td>\n      <td>...</td>\n      <td>...</td>\n      <td>...</td>\n      <td>...</td>\n      <td>...</td>\n      <td>...</td>\n      <td>...</td>\n      <td>...</td>\n    </tr>\n    <tr>\n      <th>84947</th>\n      <td>-0.001109</td>\n      <td>STAR</td>\n      <td>21.239357</td>\n      <td>20.240782</td>\n      <td>19.922716</td>\n      <td>19.754583</td>\n      <td>19.715046</td>\n      <td>21.249580</td>\n      <td>20.297592</td>\n      <td>20.018015</td>\n      <td>19.885736</td>\n      <td>19.867411</td>\n    </tr>\n    <tr>\n      <th>84948</th>\n      <td>0.000013</td>\n      <td>STAR</td>\n      <td>23.282341</td>\n      <td>21.154026</td>\n      <td>19.759577</td>\n      <td>19.211868</td>\n      <td>18.812143</td>\n      <td>23.476542</td>\n      <td>21.261414</td>\n      <td>19.869307</td>\n      <td>19.248789</td>\n      <td>18.833431</td>\n    </tr>\n    <tr>\n      <th>84949</th>\n      <td>-0.001138</td>\n      <td>STAR</td>\n      <td>18.428312</td>\n      <td>17.006844</td>\n      <td>16.344975</td>\n      <td>16.033613</td>\n      <td>15.819430</td>\n      <td>18.453526</td>\n      <td>17.065052</td>\n      <td>16.357840</td>\n      <td>16.051132</td>\n      <td>15.877373</td>\n    </tr>\n    <tr>\n      <th>84950</th>\n      <td>0.219960</td>\n      <td>GALAXY</td>\n      <td>22.127785</td>\n      <td>20.882309</td>\n      <td>20.053568</td>\n      <td>19.667034</td>\n      <td>19.188293</td>\n      <td>20.659279</td>\n      <td>19.663300</td>\n      <td>18.849623</td>\n      <td>18.465277</td>\n      <td>18.644720</td>\n    </tr>\n    <tr>\n      <th>84951</th>\n      <td>-0.000066</td>\n      <td>STAR</td>\n      <td>23.110277</td>\n      <td>20.844858</td>\n      <td>20.146984</td>\n      <td>19.810287</td>\n      <td>19.575218</td>\n      <td>24.624086</td>\n      <td>20.870701</td>\n      <td>20.142569</td>\n      <td>19.859249</td>\n      <td>19.696976</td>\n    </tr>\n  </tbody>\n</table>\n<p>84952 rows × 12 columns</p>\n</div>"
     },
     "execution_count": 31,
     "metadata": {},
     "output_type": "execute_result"
    }
   ],
   "source": [
    "# Based on domain knowledge, drop useless features\n",
    "sdss_cleaned = sdss_combined.copy()\n",
    "sdss_cleaned = sdss_cleaned.drop(columns=['plate', 'mjd', 'fiberid', 'zErr', 'zWarning', 'bestObjID', 'objType', 'run', 'rerun', 'camCol', 'field', 'obj'])\n",
    "# Finally, we only want the redshift, the psf magnitudes, the petrosian magnitudes, and the class designation of the target\n",
    "sdss_cleaned"
   ],
   "metadata": {
    "collapsed": false,
    "pycharm": {
     "name": "#%%\n"
    }
   }
  },
  {
   "cell_type": "code",
   "execution_count": 32,
   "outputs": [],
   "source": [
    "sdss_processed = sdss_cleaned.copy()\n",
    "# Calculate the color indices based on the psf magnitudes\n",
    "sdss_processed['psf_u-g'] = sdss_processed['psfMag_u'] - sdss_processed['psfMag_g']\n",
    "sdss_processed['psf_g-r'] = sdss_processed['psfMag_g'] - sdss_processed['psfMag_r']\n",
    "sdss_processed['psf_r-i'] = sdss_processed['psfMag_r'] - sdss_processed['psfMag_i']\n",
    "sdss_processed['psf_i-z'] = sdss_processed['psfMag_i'] - sdss_processed['psfMag_z']\n",
    "# Calculate the color indices based on the petrosian magnitudes\n",
    "sdss_processed['petro_u-g'] = sdss_processed['petroMag_u'] - sdss_processed['petroMag_g']\n",
    "sdss_processed['petro_g-r'] = sdss_processed['petroMag_g'] - sdss_processed['petroMag_r']\n",
    "sdss_processed['petro_r-i'] = sdss_processed['petroMag_r'] - sdss_processed['petroMag_i']\n",
    "sdss_processed['petro_i-z'] = sdss_processed['petroMag_i'] - sdss_processed['petroMag_z']"
   ],
   "metadata": {
    "collapsed": false,
    "pycharm": {
     "name": "#%%\n"
    }
   }
  },
  {
   "cell_type": "code",
   "execution_count": 33,
   "outputs": [
    {
     "data": {
      "text/plain": "              z   psfMag_u   psfMag_g   psfMag_r   psfMag_i   psfMag_z  \\\n0      0.389562  23.125439  21.790100  20.101208  19.489414  19.024839   \n1      0.000795  17.430862  16.606251  16.266584  16.134212  16.120159   \n2      0.379204  23.658684  21.878881  19.953222  19.325336  18.858727   \n3      0.379125  24.913301  22.357603  20.705986  19.984390  19.710501   \n4      0.381811  24.833059  22.404722  20.614035  20.048290  19.560736   \n...         ...        ...        ...        ...        ...        ...   \n84947 -0.001109  21.239357  20.240782  19.922716  19.754583  19.715046   \n84948  0.000013  23.282341  21.154026  19.759577  19.211868  18.812143   \n84949 -0.001138  18.428312  17.006844  16.344975  16.033613  15.819430   \n84950  0.219960  22.127785  20.882309  20.053568  19.667034  19.188293   \n84951 -0.000066  23.110277  20.844858  20.146984  19.810287  19.575218   \n\n       petroMag_u  petroMag_g  petroMag_r  petroMag_i  petroMag_z   psf_u-g  \\\n0       21.797628   20.614769   19.116451   18.525537   18.100412  1.335339   \n1       17.541275   16.625443   16.326315   16.203777   16.185209  0.824611   \n2       20.516718   20.508654   18.500441   17.840191   17.591818  1.779803   \n3       24.590675   20.440012   19.447878   18.827709   18.500956  2.555698   \n4       22.215349   20.974915   19.512709   18.837957   18.233456  2.428337   \n...           ...         ...         ...         ...         ...       ...   \n84947   21.249580   20.297592   20.018015   19.885736   19.867411  0.998575   \n84948   23.476542   21.261414   19.869307   19.248789   18.833431  2.128315   \n84949   18.453526   17.065052   16.357840   16.051132   15.877373  1.421468   \n84950   20.659279   19.663300   18.849623   18.465277   18.644720  1.245476   \n84951   24.624086   20.870701   20.142569   19.859249   19.696976  2.265419   \n\n        psf_g-r   psf_r-i   psf_i-z  petro_u-g  petro_g-r  petro_r-i  \\\n0      1.688892  0.611794  0.464575   1.182859   1.498318   0.590914   \n1      0.339667  0.132372  0.014053   0.915832   0.299128   0.122538   \n2      1.925659  0.627886  0.466609   0.008064   2.008213   0.660250   \n3      1.651617  0.721596  0.273889   4.150663   0.992134   0.620169   \n4      1.790687  0.565745  0.487554   1.240434   1.462206   0.674752   \n...         ...       ...       ...        ...        ...        ...   \n84947  0.318066  0.168133  0.039537   0.951988   0.279577   0.132279   \n84948  1.394449  0.547709  0.399725   2.215128   1.392107   0.620518   \n84949  0.661869  0.311362  0.214183   1.388474   0.707212   0.306708   \n84950  0.828741  0.386534  0.478741   0.995979   0.813677   0.384346   \n84951  0.697874  0.336697  0.235069   3.753385   0.728132   0.283320   \n\n       petro_i-z  Target  \n0       0.425125       1  \n1       0.018568       0  \n2       0.248373       1  \n3       0.326753       1  \n4       0.604501       1  \n...          ...     ...  \n84947   0.018325       0  \n84948   0.415358       0  \n84949   0.173759       0  \n84950  -0.179443       1  \n84951   0.162273       0  \n\n[84952 rows x 20 columns]",
      "text/html": "<div>\n<style scoped>\n    .dataframe tbody tr th:only-of-type {\n        vertical-align: middle;\n    }\n\n    .dataframe tbody tr th {\n        vertical-align: top;\n    }\n\n    .dataframe thead th {\n        text-align: right;\n    }\n</style>\n<table border=\"1\" class=\"dataframe\">\n  <thead>\n    <tr style=\"text-align: right;\">\n      <th></th>\n      <th>z</th>\n      <th>psfMag_u</th>\n      <th>psfMag_g</th>\n      <th>psfMag_r</th>\n      <th>psfMag_i</th>\n      <th>psfMag_z</th>\n      <th>petroMag_u</th>\n      <th>petroMag_g</th>\n      <th>petroMag_r</th>\n      <th>petroMag_i</th>\n      <th>petroMag_z</th>\n      <th>psf_u-g</th>\n      <th>psf_g-r</th>\n      <th>psf_r-i</th>\n      <th>psf_i-z</th>\n      <th>petro_u-g</th>\n      <th>petro_g-r</th>\n      <th>petro_r-i</th>\n      <th>petro_i-z</th>\n      <th>Target</th>\n    </tr>\n  </thead>\n  <tbody>\n    <tr>\n      <th>0</th>\n      <td>0.389562</td>\n      <td>23.125439</td>\n      <td>21.790100</td>\n      <td>20.101208</td>\n      <td>19.489414</td>\n      <td>19.024839</td>\n      <td>21.797628</td>\n      <td>20.614769</td>\n      <td>19.116451</td>\n      <td>18.525537</td>\n      <td>18.100412</td>\n      <td>1.335339</td>\n      <td>1.688892</td>\n      <td>0.611794</td>\n      <td>0.464575</td>\n      <td>1.182859</td>\n      <td>1.498318</td>\n      <td>0.590914</td>\n      <td>0.425125</td>\n      <td>1</td>\n    </tr>\n    <tr>\n      <th>1</th>\n      <td>0.000795</td>\n      <td>17.430862</td>\n      <td>16.606251</td>\n      <td>16.266584</td>\n      <td>16.134212</td>\n      <td>16.120159</td>\n      <td>17.541275</td>\n      <td>16.625443</td>\n      <td>16.326315</td>\n      <td>16.203777</td>\n      <td>16.185209</td>\n      <td>0.824611</td>\n      <td>0.339667</td>\n      <td>0.132372</td>\n      <td>0.014053</td>\n      <td>0.915832</td>\n      <td>0.299128</td>\n      <td>0.122538</td>\n      <td>0.018568</td>\n      <td>0</td>\n    </tr>\n    <tr>\n      <th>2</th>\n      <td>0.379204</td>\n      <td>23.658684</td>\n      <td>21.878881</td>\n      <td>19.953222</td>\n      <td>19.325336</td>\n      <td>18.858727</td>\n      <td>20.516718</td>\n      <td>20.508654</td>\n      <td>18.500441</td>\n      <td>17.840191</td>\n      <td>17.591818</td>\n      <td>1.779803</td>\n      <td>1.925659</td>\n      <td>0.627886</td>\n      <td>0.466609</td>\n      <td>0.008064</td>\n      <td>2.008213</td>\n      <td>0.660250</td>\n      <td>0.248373</td>\n      <td>1</td>\n    </tr>\n    <tr>\n      <th>3</th>\n      <td>0.379125</td>\n      <td>24.913301</td>\n      <td>22.357603</td>\n      <td>20.705986</td>\n      <td>19.984390</td>\n      <td>19.710501</td>\n      <td>24.590675</td>\n      <td>20.440012</td>\n      <td>19.447878</td>\n      <td>18.827709</td>\n      <td>18.500956</td>\n      <td>2.555698</td>\n      <td>1.651617</td>\n      <td>0.721596</td>\n      <td>0.273889</td>\n      <td>4.150663</td>\n      <td>0.992134</td>\n      <td>0.620169</td>\n      <td>0.326753</td>\n      <td>1</td>\n    </tr>\n    <tr>\n      <th>4</th>\n      <td>0.381811</td>\n      <td>24.833059</td>\n      <td>22.404722</td>\n      <td>20.614035</td>\n      <td>20.048290</td>\n      <td>19.560736</td>\n      <td>22.215349</td>\n      <td>20.974915</td>\n      <td>19.512709</td>\n      <td>18.837957</td>\n      <td>18.233456</td>\n      <td>2.428337</td>\n      <td>1.790687</td>\n      <td>0.565745</td>\n      <td>0.487554</td>\n      <td>1.240434</td>\n      <td>1.462206</td>\n      <td>0.674752</td>\n      <td>0.604501</td>\n      <td>1</td>\n    </tr>\n    <tr>\n      <th>...</th>\n      <td>...</td>\n      <td>...</td>\n      <td>...</td>\n      <td>...</td>\n      <td>...</td>\n      <td>...</td>\n      <td>...</td>\n      <td>...</td>\n      <td>...</td>\n      <td>...</td>\n      <td>...</td>\n      <td>...</td>\n      <td>...</td>\n      <td>...</td>\n      <td>...</td>\n      <td>...</td>\n      <td>...</td>\n      <td>...</td>\n      <td>...</td>\n      <td>...</td>\n    </tr>\n    <tr>\n      <th>84947</th>\n      <td>-0.001109</td>\n      <td>21.239357</td>\n      <td>20.240782</td>\n      <td>19.922716</td>\n      <td>19.754583</td>\n      <td>19.715046</td>\n      <td>21.249580</td>\n      <td>20.297592</td>\n      <td>20.018015</td>\n      <td>19.885736</td>\n      <td>19.867411</td>\n      <td>0.998575</td>\n      <td>0.318066</td>\n      <td>0.168133</td>\n      <td>0.039537</td>\n      <td>0.951988</td>\n      <td>0.279577</td>\n      <td>0.132279</td>\n      <td>0.018325</td>\n      <td>0</td>\n    </tr>\n    <tr>\n      <th>84948</th>\n      <td>0.000013</td>\n      <td>23.282341</td>\n      <td>21.154026</td>\n      <td>19.759577</td>\n      <td>19.211868</td>\n      <td>18.812143</td>\n      <td>23.476542</td>\n      <td>21.261414</td>\n      <td>19.869307</td>\n      <td>19.248789</td>\n      <td>18.833431</td>\n      <td>2.128315</td>\n      <td>1.394449</td>\n      <td>0.547709</td>\n      <td>0.399725</td>\n      <td>2.215128</td>\n      <td>1.392107</td>\n      <td>0.620518</td>\n      <td>0.415358</td>\n      <td>0</td>\n    </tr>\n    <tr>\n      <th>84949</th>\n      <td>-0.001138</td>\n      <td>18.428312</td>\n      <td>17.006844</td>\n      <td>16.344975</td>\n      <td>16.033613</td>\n      <td>15.819430</td>\n      <td>18.453526</td>\n      <td>17.065052</td>\n      <td>16.357840</td>\n      <td>16.051132</td>\n      <td>15.877373</td>\n      <td>1.421468</td>\n      <td>0.661869</td>\n      <td>0.311362</td>\n      <td>0.214183</td>\n      <td>1.388474</td>\n      <td>0.707212</td>\n      <td>0.306708</td>\n      <td>0.173759</td>\n      <td>0</td>\n    </tr>\n    <tr>\n      <th>84950</th>\n      <td>0.219960</td>\n      <td>22.127785</td>\n      <td>20.882309</td>\n      <td>20.053568</td>\n      <td>19.667034</td>\n      <td>19.188293</td>\n      <td>20.659279</td>\n      <td>19.663300</td>\n      <td>18.849623</td>\n      <td>18.465277</td>\n      <td>18.644720</td>\n      <td>1.245476</td>\n      <td>0.828741</td>\n      <td>0.386534</td>\n      <td>0.478741</td>\n      <td>0.995979</td>\n      <td>0.813677</td>\n      <td>0.384346</td>\n      <td>-0.179443</td>\n      <td>1</td>\n    </tr>\n    <tr>\n      <th>84951</th>\n      <td>-0.000066</td>\n      <td>23.110277</td>\n      <td>20.844858</td>\n      <td>20.146984</td>\n      <td>19.810287</td>\n      <td>19.575218</td>\n      <td>24.624086</td>\n      <td>20.870701</td>\n      <td>20.142569</td>\n      <td>19.859249</td>\n      <td>19.696976</td>\n      <td>2.265419</td>\n      <td>0.697874</td>\n      <td>0.336697</td>\n      <td>0.235069</td>\n      <td>3.753385</td>\n      <td>0.728132</td>\n      <td>0.283320</td>\n      <td>0.162273</td>\n      <td>0</td>\n    </tr>\n  </tbody>\n</table>\n<p>84952 rows × 20 columns</p>\n</div>"
     },
     "execution_count": 33,
     "metadata": {},
     "output_type": "execute_result"
    }
   ],
   "source": [
    "# finally, we need to convert the classification into numerical format\n",
    "sdss_final = sdss_processed.copy()\n",
    "sdss_final.loc[sdss_final['class'] == 'STAR', 'Target'] = 0  # 0 stands for stars\n",
    "sdss_final.loc[sdss_final['class'] == 'GALAXY', 'Target'] = 1  # 1 stands for galaxies\n",
    "sdss_final.loc[sdss_final['class'] == 'QSO', 'Target'] = 2  # 2 stands for quasars\n",
    "sdss_final['Target'] = sdss_final['Target'].astype('int')\n",
    "sdss_final = sdss_final.drop(columns=['class'])\n",
    "sdss_final"
   ],
   "metadata": {
    "collapsed": false,
    "pycharm": {
     "name": "#%%\n"
    }
   }
  },
  {
   "cell_type": "markdown",
   "source": [
    "Feature Selection"
   ],
   "metadata": {
    "collapsed": false,
    "pycharm": {
     "name": "#%% md\n"
    }
   }
  },
  {
   "cell_type": "code",
   "execution_count": 39,
   "outputs": [
    {
     "name": "stdout",
     "output_type": "stream",
     "text": [
      "Feature: z, ANOVA p-value: 0.0\n",
      "Feature: psfMag_u, ANOVA p-value: 0.0\n",
      "Feature: psfMag_g, ANOVA p-value: 0.0\n",
      "Feature: psfMag_r, ANOVA p-value: 0.0\n",
      "Feature: psfMag_i, ANOVA p-value: 2.6436329666785546e-15\n",
      "Feature: psfMag_z, ANOVA p-value: 0.0\n",
      "Feature: petroMag_u, ANOVA p-value: 3.748824105812476e-178\n",
      "Feature: petroMag_g, ANOVA p-value: 1.3914078898828416e-293\n",
      "Feature: petroMag_r, ANOVA p-value: 0.0\n",
      "Feature: petroMag_i, ANOVA p-value: 0.0002592728504750078\n",
      "Feature: petroMag_z, ANOVA p-value: 0.0\n",
      "Feature: psf_u-g, ANOVA p-value: 0.0\n",
      "Feature: psf_g-r, ANOVA p-value: 0.0\n",
      "Feature: psf_r-i, ANOVA p-value: 0.24106143186593043\n",
      "Feature: psf_i-z, ANOVA p-value: 0.3268985737594458\n",
      "Feature: petro_u-g, ANOVA p-value: 0.0\n",
      "Feature: petro_g-r, ANOVA p-value: 0.0\n",
      "Feature: petro_r-i, ANOVA p-value: 0.23305501417794694\n",
      "Feature: petro_i-z, ANOVA p-value: 0.733977894817009\n"
     ]
    }
   ],
   "source": [
    "# Target Features with a low p-value are more likely to be related to the target variable\n",
    "X = sdss_final.drop('Target', axis=1)\n",
    "Y = sdss_final['Target']\n",
    "anova_results = {}\n",
    "for column in X.columns:\n",
    "    groups = []\n",
    "    for category in Y.unique():\n",
    "        groups.append(X[column][Y == category])\n",
    "    F, p = stats.f_oneway(*groups)\n",
    "    anova_results[column] = p\n",
    "\n",
    "for feature, p_value in anova_results.items():\n",
    "    print(f\"Feature: {feature}, ANOVA p-value: {p_value}\")"
   ],
   "metadata": {
    "collapsed": false,
    "pycharm": {
     "name": "#%%\n"
    }
   }
  },
  {
   "cell_type": "code",
   "execution_count": 44,
   "outputs": [
    {
     "data": {
      "text/plain": "<Figure size 720x432 with 1 Axes>",
      "image/png": "[encoded data removed]"
     },
     "metadata": {
      "needs_background": "light"
     },
     "output_type": "display_data"
    }
   ],
   "source": [
    "# Calculating MI scores\n",
    "mi_scores = mutual_info_classif(X, Y)\n",
    "indices = np.argsort(mi_scores)[::-1]\n",
    "\n",
    "# Sorting feature names based on MI scores\n",
    "sorted_feature_names = [X.columns[i] for i in indices]\n",
    "\n",
    "# Creating horizontal bar plot\n",
    "plt.figure(figsize=(10, 6))\n",
    "plt.title(\"Mutual Information Scores\")\n",
    "plt.barh(range(X.shape[1]), mi_scores[indices], color=\"b\", align=\"center\")\n",
    "plt.yticks(range(X.shape[1]), sorted_feature_names)\n",
    "plt.gca().invert_yaxis()  # To display the highest score at the top\n",
    "\n",
    "# Drawing a red dashed line at 0.1\n",
    "plt.axvline(x=0.1, color='r', linestyle='--')\n",
    "\n",
    "plt.show()"
   ],
   "metadata": {
    "collapsed": false,
    "pycharm": {
     "name": "#%%\n"
    }
   }
  },
  {
   "cell_type": "code",
   "execution_count": 45,
   "outputs": [
    {
     "data": {
      "text/plain": "              z   psfMag_u   psfMag_g   psfMag_r   psfMag_i   psfMag_z  \\\n0      0.389562  23.125439  21.790100  20.101208  19.489414  19.024839   \n1      0.000795  17.430862  16.606251  16.266584  16.134212  16.120159   \n2      0.379204  23.658684  21.878881  19.953222  19.325336  18.858727   \n3      0.379125  24.913301  22.357603  20.705986  19.984390  19.710501   \n4      0.381811  24.833059  22.404722  20.614035  20.048290  19.560736   \n...         ...        ...        ...        ...        ...        ...   \n84947 -0.001109  21.239357  20.240782  19.922716  19.754583  19.715046   \n84948  0.000013  23.282341  21.154026  19.759577  19.211868  18.812143   \n84949 -0.001138  18.428312  17.006844  16.344975  16.033613  15.819430   \n84950  0.219960  22.127785  20.882309  20.053568  19.667034  19.188293   \n84951 -0.000066  23.110277  20.844858  20.146984  19.810287  19.575218   \n\n       petroMag_u  petroMag_g  petroMag_r  petroMag_i  petroMag_z   psf_u-g  \\\n0       21.797628   20.614769   19.116451   18.525537   18.100412  1.335339   \n1       17.541275   16.625443   16.326315   16.203777   16.185209  0.824611   \n2       20.516718   20.508654   18.500441   17.840191   17.591818  1.779803   \n3       24.590675   20.440012   19.447878   18.827709   18.500956  2.555698   \n4       22.215349   20.974915   19.512709   18.837957   18.233456  2.428337   \n...           ...         ...         ...         ...         ...       ...   \n84947   21.249580   20.297592   20.018015   19.885736   19.867411  0.998575   \n84948   23.476542   21.261414   19.869307   19.248789   18.833431  2.128315   \n84949   18.453526   17.065052   16.357840   16.051132   15.877373  1.421468   \n84950   20.659279   19.663300   18.849623   18.465277   18.644720  1.245476   \n84951   24.624086   20.870701   20.142569   19.859249   19.696976  2.265419   \n\n        psf_g-r  petro_u-g  petro_g-r  Target  \n0      1.688892   1.182859   1.498318       1  \n1      0.339667   0.915832   0.299128       0  \n2      1.925659   0.008064   2.008213       1  \n3      1.651617   4.150663   0.992134       1  \n4      1.790687   1.240434   1.462206       1  \n...         ...        ...        ...     ...  \n84947  0.318066   0.951988   0.279577       0  \n84948  1.394449   2.215128   1.392107       0  \n84949  0.661869   1.388474   0.707212       0  \n84950  0.828741   0.995979   0.813677       1  \n84951  0.697874   3.753385   0.728132       0  \n\n[84952 rows x 16 columns]",
      "text/html": "<div>\n<style scoped>\n    .dataframe tbody tr th:only-of-type {\n        vertical-align: middle;\n    }\n\n    .dataframe tbody tr th {\n        vertical-align: top;\n    }\n\n    .dataframe thead th {\n        text-align: right;\n    }\n</style>\n<table border=\"1\" class=\"dataframe\">\n  <thead>\n    <tr style=\"text-align: right;\">\n      <th></th>\n      <th>z</th>\n      <th>psfMag_u</th>\n      <th>psfMag_g</th>\n      <th>psfMag_r</th>\n      <th>psfMag_i</th>\n      <th>psfMag_z</th>\n      <th>petroMag_u</th>\n      <th>petroMag_g</th>\n      <th>petroMag_r</th>\n      <th>petroMag_i</th>\n      <th>petroMag_z</th>\n      <th>psf_u-g</th>\n      <th>psf_g-r</th>\n      <th>petro_u-g</th>\n      <th>petro_g-r</th>\n      <th>Target</th>\n    </tr>\n  </thead>\n  <tbody>\n    <tr>\n      <th>0</th>\n      <td>0.389562</td>\n      <td>23.125439</td>\n      <td>21.790100</td>\n      <td>20.101208</td>\n      <td>19.489414</td>\n      <td>19.024839</td>\n      <td>21.797628</td>\n      <td>20.614769</td>\n      <td>19.116451</td>\n      <td>18.525537</td>\n      <td>18.100412</td>\n      <td>1.335339</td>\n      <td>1.688892</td>\n      <td>1.182859</td>\n      <td>1.498318</td>\n      <td>1</td>\n    </tr>\n    <tr>\n      <th>1</th>\n      <td>0.000795</td>\n      <td>17.430862</td>\n      <td>16.606251</td>\n      <td>16.266584</td>\n      <td>16.134212</td>\n      <td>16.120159</td>\n      <td>17.541275</td>\n      <td>16.625443</td>\n      <td>16.326315</td>\n      <td>16.203777</td>\n      <td>16.185209</td>\n      <td>0.824611</td>\n      <td>0.339667</td>\n      <td>0.915832</td>\n      <td>0.299128</td>\n      <td>0</td>\n    </tr>\n    <tr>\n      <th>2</th>\n      <td>0.379204</td>\n      <td>23.658684</td>\n      <td>21.878881</td>\n      <td>19.953222</td>\n      <td>19.325336</td>\n      <td>18.858727</td>\n      <td>20.516718</td>\n      <td>20.508654</td>\n      <td>18.500441</td>\n      <td>17.840191</td>\n      <td>17.591818</td>\n      <td>1.779803</td>\n      <td>1.925659</td>\n      <td>0.008064</td>\n      <td>2.008213</td>\n      <td>1</td>\n    </tr>\n    <tr>\n      <th>3</th>\n      <td>0.379125</td>\n      <td>24.913301</td>\n      <td>22.357603</td>\n      <td>20.705986</td>\n      <td>19.984390</td>\n      <td>19.710501</td>\n      <td>24.590675</td>\n      <td>20.440012</td>\n      <td>19.447878</td>\n      <td>18.827709</td>\n      <td>18.500956</td>\n      <td>2.555698</td>\n      <td>1.651617</td>\n      <td>4.150663</td>\n      <td>0.992134</td>\n      <td>1</td>\n    </tr>\n    <tr>\n      <th>4</th>\n      <td>0.381811</td>\n      <td>24.833059</td>\n      <td>22.404722</td>\n      <td>20.614035</td>\n      <td>20.048290</td>\n      <td>19.560736</td>\n      <td>22.215349</td>\n      <td>20.974915</td>\n      <td>19.512709</td>\n      <td>18.837957</td>\n      <td>18.233456</td>\n      <td>2.428337</td>\n      <td>1.790687</td>\n      <td>1.240434</td>\n      <td>1.462206</td>\n      <td>1</td>\n    </tr>\n    <tr>\n      <th>...</th>\n      <td>...</td>\n      <td>...</td>\n      <td>...</td>\n      <td>...</td>\n      <td>...</td>\n      <td>...</td>\n      <td>...</td>\n      <td>...</td>\n      <td>...</td>\n      <td>...</td>\n      <td>...</td>\n      <td>...</td>\n      <td>...</td>\n      <td>...</td>\n      <td>...</td>\n      <td>...</td>\n    </tr>\n    <tr>\n      <th>84947</th>\n      <td>-0.001109</td>\n      <td>21.239357</td>\n      <td>20.240782</td>\n      <td>19.922716</td>\n      <td>19.754583</td>\n      <td>19.715046</td>\n      <td>21.249580</td>\n      <td>20.297592</td>\n      <td>20.018015</td>\n      <td>19.885736</td>\n      <td>19.867411</td>\n      <td>0.998575</td>\n      <td>0.318066</td>\n      <td>0.951988</td>\n      <td>0.279577</td>\n      <td>0</td>\n    </tr>\n    <tr>\n      <th>84948</th>\n      <td>0.000013</td>\n      <td>23.282341</td>\n      <td>21.154026</td>\n      <td>19.759577</td>\n      <td>19.211868</td>\n      <td>18.812143</td>\n      <td>23.476542</td>\n      <td>21.261414</td>\n      <td>19.869307</td>\n      <td>19.248789</td>\n      <td>18.833431</td>\n      <td>2.128315</td>\n      <td>1.394449</td>\n      <td>2.215128</td>\n      <td>1.392107</td>\n      <td>0</td>\n    </tr>\n    <tr>\n      <th>84949</th>\n      <td>-0.001138</td>\n      <td>18.428312</td>\n      <td>17.006844</td>\n      <td>16.344975</td>\n      <td>16.033613</td>\n      <td>15.819430</td>\n      <td>18.453526</td>\n      <td>17.065052</td>\n      <td>16.357840</td>\n      <td>16.051132</td>\n      <td>15.877373</td>\n      <td>1.421468</td>\n      <td>0.661869</td>\n      <td>1.388474</td>\n      <td>0.707212</td>\n      <td>0</td>\n    </tr>\n    <tr>\n      <th>84950</th>\n      <td>0.219960</td>\n      <td>22.127785</td>\n      <td>20.882309</td>\n      <td>20.053568</td>\n      <td>19.667034</td>\n      <td>19.188293</td>\n      <td>20.659279</td>\n      <td>19.663300</td>\n      <td>18.849623</td>\n      <td>18.465277</td>\n      <td>18.644720</td>\n      <td>1.245476</td>\n      <td>0.828741</td>\n      <td>0.995979</td>\n      <td>0.813677</td>\n      <td>1</td>\n    </tr>\n    <tr>\n      <th>84951</th>\n      <td>-0.000066</td>\n      <td>23.110277</td>\n      <td>20.844858</td>\n      <td>20.146984</td>\n      <td>19.810287</td>\n      <td>19.575218</td>\n      <td>24.624086</td>\n      <td>20.870701</td>\n      <td>20.142569</td>\n      <td>19.859249</td>\n      <td>19.696976</td>\n      <td>2.265419</td>\n      <td>0.697874</td>\n      <td>3.753385</td>\n      <td>0.728132</td>\n      <td>0</td>\n    </tr>\n  </tbody>\n</table>\n<p>84952 rows × 16 columns</p>\n</div>"
     },
     "execution_count": 45,
     "metadata": {},
     "output_type": "execute_result"
    }
   ],
   "source": [
    "# Based on the ANOVA analysis, the (r-i) and (i-z) colors are not contributing much to the results. Therefore, they should be removed from the dataset\n",
    "# However, the MI score tells us all the petrosian magnitudes are not contributing much to the prediction. Based on physics instinct, the petrosian magnitudes should provide some information about the surface flux of the galaxies, so we still want to reserve this information, therefore disregarding the MI scores.\n",
    "sdss_final = sdss_final.drop(columns=['psf_r-i', 'psf_i-z', 'petro_r-i', 'petro_i-z'])\n",
    "sdss_final"
   ],
   "metadata": {
    "collapsed": false,
    "pycharm": {
     "name": "#%%\n"
    }
   }
  },
  {
   "cell_type": "code",
   "execution_count": 50,
   "outputs": [
    {
     "name": "stdout",
     "output_type": "stream",
     "text": [
      "Number of Stars: 39827\n",
      "Number of Galaxies: 39609\n",
      "Number of Quasars: 5516\n"
     ]
    }
   ],
   "source": [
    "print(f\"Number of Stars: {np.shape(sdss_final[sdss_final['Target'] == 0])[0]}\")\n",
    "print(f\"Number of Galaxies: {np.shape(sdss_final[sdss_final['Target'] == 1])[0]}\")\n",
    "print(f\"Number of Quasars: {np.shape(sdss_final[sdss_final['Target'] == 2])[0]}\")\n",
    "sdss_final.to_csv('SDSS_processed.csv', index=False)"
   ],
   "metadata": {
    "collapsed": false,
    "pycharm": {
     "name": "#%%\n"
    }
   }
  },
  {
   "cell_type": "code",
   "execution_count": 49,
   "outputs": [
    {
     "name": "stdout",
     "output_type": "stream",
     "text": [
      "Number of Stars: 5516\n"
     ]
    }
   ],
   "source": [],
   "metadata": {
    "collapsed": false,
    "pycharm": {
     "name": "#%%\n"
    }
   }
  }
 ],
 "metadata": {
  "kernelspec": {
   "display_name": "Python 3",
   "language": "python",
   "name": "python3"
  },
  "language_info": {
   "codemirror_mode": {
    "name": "ipython",
    "version": 2
   },
   "file_extension": ".py",
   "mimetype": "text/x-python",
   "name": "python",
   "nbconvert_exporter": "python",
   "pygments_lexer": "ipython2",
   "version": "2.7.6"
  }
 },
 "nbformat": 4,
 "nbformat_minor": 0
}