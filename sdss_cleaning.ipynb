{
 "cells": [
  {
   "cell_type": "code",
   "execution_count": null,
   "metadata": {
    "collapsed": true,
    "pycharm": {
     "name": "#%%\n"
    }
   },
   "outputs": [],
   "source": [
    "import matplotlib.pyplot as plt\n",
    "from matplotlib.lines import Line2D\n",
    "import numpy as np\n",
    "import pandas as pd\n",
    "from scipy import stats\n",
    "from sklearn.feature_selection import mutual_info_classif"
   ]
  },
  {
   "cell_type": "code",
   "execution_count": null,
   "metadata": {
    "collapsed": false,
    "pycharm": {
     "name": "#%%\n"
    }
   },
   "outputs": [],
   "source": [
    "file_pattern = \"SDSS ({num}).csv\"\n",
    "file_numbers = range(1, 18)\n",
    "files = [file_pattern.format(num=num) for num in file_numbers]\n",
    "\n",
    "sdss_combined = pd.DataFrame()\n",
    "\n",
    "for file in files:\n",
    "    sdss = pd.read_csv(file)\n",
    "\n",
    "    sdss_combined = pd.concat([sdss_combined, sdss], ignore_index=True)\n",
    "\n",
    "print(f\"Dimensionality: {np.shape(sdss_combined)[0] * np.shape(sdss_combined)[1]}\")\n",
    "sdss_combined"
   ]
  },
  {
   "cell_type": "code",
   "execution_count": null,
   "metadata": {
    "collapsed": false,
    "pycharm": {
     "name": "#%%\n"
    }
   },
   "outputs": [],
   "source": [
    "sdss_cleaned = sdss_combined.copy()\n",
    "sdss_cleaned = sdss_cleaned.drop(columns=['plate', 'mjd', 'fiberid', 'zErr', 'zWarning', 'bestObjID', 'objType', 'run', 'rerun', 'camCol', 'field', 'obj'])\n",
    "sdss_cleaned"
   ]
  },
  {
   "cell_type": "code",
   "execution_count": null,
   "metadata": {
    "collapsed": false,
    "pycharm": {
     "name": "#%%\n"
    }
   },
   "outputs": [],
   "source": [
    "sdss_processed = sdss_cleaned.copy()\n",
    "sdss_processed['psf_u-g'] = sdss_processed['psfMag_u'] - sdss_processed['psfMag_g']\n",
    "sdss_processed['psf_g-r'] = sdss_processed['psfMag_g'] - sdss_processed['psfMag_r']\n",
    "sdss_processed['psf_r-i'] = sdss_processed['psfMag_r'] - sdss_processed['psfMag_i']\n",
    "sdss_processed['psf_i-z'] = sdss_processed['psfMag_i'] - sdss_processed['psfMag_z']\n",
    "sdss_processed['petro_u-g'] = sdss_processed['petroMag_u'] - sdss_processed['petroMag_g']\n",
    "sdss_processed['petro_g-r'] = sdss_processed['petroMag_g'] - sdss_processed['petroMag_r']\n",
    "sdss_processed['petro_r-i'] = sdss_processed['petroMag_r'] - sdss_processed['petroMag_i']\n",
    "sdss_processed['petro_i-z'] = sdss_processed['petroMag_i'] - sdss_processed['petroMag_z']"
   ]
  },
  {
   "cell_type": "code",
   "execution_count": null,
   "metadata": {
    "collapsed": false,
    "pycharm": {
     "name": "#%%\n"
    }
   },
   "outputs": [],
   "source": [
    "sdss_final = sdss_processed.copy()\n",
    "sdss_final.loc[sdss_final['class'] == 'STAR', 'Target'] = 0  # 0 stands for stars\n",
    "sdss_final.loc[sdss_final['class'] == 'GALAXY', 'Target'] = 1  # 1 stands for galaxies\n",
    "sdss_final.loc[sdss_final['class'] == 'QSO', 'Target'] = 2  # 2 stands for quasars\n",
    "sdss_final['Target'] = sdss_final['Target'].astype('int')\n",
    "sdss_final = sdss_final.drop(columns=['class'])\n",
    "sdss_final"
   ]
  },
  {
   "cell_type": "markdown",
   "metadata": {
    "collapsed": false,
    "pycharm": {
     "name": "#%% md\n"
    }
   },
   "source": [
    "Feature Selection"
   ]
  },
  {
   "cell_type": "code",
   "execution_count": null,
   "metadata": {
    "collapsed": false,
    "pycharm": {
     "name": "#%%\n"
    }
   },
   "outputs": [],
   "source": [
    "# Target Features with a low p-value are more likely to be related to the target variable\n",
    "X = sdss_final.drop('Target', axis=1)\n",
    "Y = sdss_final['Target']\n",
    "anova_results = {}\n",
    "for column in X.columns:\n",
    "    groups = []\n",
    "    for category in Y.unique():\n",
    "        groups.append(X[column][Y == category])\n",
    "    F, p = stats.f_oneway(*groups)\n",
    "    anova_results[column] = p\n",
    "\n",
    "\n",
    "for feature, p_value in anova_results.items():\n",
    "    print(f\"Feature: {feature}, ANOVA p-value: {p_value}\")"
   ]
  },
  {
   "cell_type": "code",
   "execution_count": null,
   "metadata": {
    "collapsed": false,
    "pycharm": {
     "name": "#%%\n"
    }
   },
   "outputs": [],
   "source": [
    "# Calculating MI scores\n",
    "mi_scores = mutual_info_classif(X, Y)\n",
    "indices = np.argsort(mi_scores)[::-1]\n",
    "\n",
    "# Sorting feature names based on MI scores\n",
    "sorted_feature_names = [X.columns[i] for i in indices]\n",
    "\n",
    "# Creating horizontal bar plot\n",
    "plt.figure(figsize=(10, 6))\n",
    "plt.title(\"Mutual Information Scores\")\n",
    "plt.barh(range(X.shape[1]), mi_scores[indices], color=\"b\", align=\"center\")\n",
    "plt.yticks(range(X.shape[1]), sorted_feature_names)\n",
    "plt.gca().invert_yaxis()  # To display the highest score at the top\n",
    "\n",
    "# Drawing a red dashed line at 0.1\n",
    "plt.axvline(x=0.1, color='r', linestyle='--')\n",
    "\n",
    "plt.show()"
   ]
  },
  {
   "cell_type": "code",
   "execution_count": null,
   "metadata": {
    "collapsed": false,
    "pycharm": {
     "name": "#%%\n"
    }
   },
   "outputs": [],
   "source": [
    "# Based on the ANOVA analysis, the (r-i) and (i-z) colors are not contributing much to the results. Therefore, they should be removed from the dataset\n",
    "# However, the MI score tells us all the petrosian magnitudes are not contributing much to the prediction. Based on physics instinct, the petrosian magnitudes should provide some information about the surface flux of the galaxies, so we still want to reserve this information, therefore disregarding the MI scores.\n",
    "sdss_final = sdss_final.drop(columns=['psf_r-i', 'psf_i-z', 'petro_r-i', 'petro_i-z'])\n",
    "sdss_final"
   ]
  },
  {
   "cell_type": "code",
   "execution_count": null,
   "metadata": {
    "collapsed": false,
    "pycharm": {
     "name": "#%%\n"
    }
   },
   "outputs": [],
   "source": [
    "print(f\"Number of Stars: {np.shape(sdss_final[sdss_final['Target'] == 0])[0]}\")\n",
    "print(f\"Number of Galaxies: {np.shape(sdss_final[sdss_final['Target'] == 1])[0]}\")\n",
    "print(f\"Number of Quasars: {np.shape(sdss_final[sdss_final['Target'] == 2])[0]}\")\n",
    "sdss_final.to_csv('SDSS_processed.csv', index=False)"
   ]
  },
  {
   "cell_type": "markdown",
   "metadata": {
    "collapsed": false,
    "pycharm": {
     "name": "#%% md\n"
    }
   },
   "source": [
    "Data Exploration"
   ]
  },
  {
   "cell_type": "code",
   "execution_count": null,
   "metadata": {
    "collapsed": false,
    "pycharm": {
     "name": "#%%\n"
    }
   },
   "outputs": [],
   "source": [
    "# Explore the data using the finalized dataframe\n",
    "SDSS = sdss_final.copy()\n",
    "\n",
    "# Define a color map for the targets\n",
    "target_colors = {0: '#377eb8', 1: '#4daf4a', 2: '#e41a1c'}  # blue, green, red\n",
    "star_quasar = {0: '#377eb8', 2: '#e41a1c'}  # blue, red\n",
    "galaxy_quasar = {1: '#4daf4a', 2: '#e41a1c'}  # green, red\n",
    "\n",
    "# Assign colors to each target category\n",
    "colors = SDSS['Target'].map(target_colors)\n",
    "# Create a custom legend\n",
    "legend_elements = [Line2D([0], [0], marker='o', color='w', label='Stars',\n",
    "                          markerfacecolor='#377eb8', markersize=10),\n",
    "                   Line2D([0], [0], marker='o', color='w', label='Galaxies',\n",
    "                          markerfacecolor='#4daf4a', markersize=10),\n",
    "                   Line2D([0], [0], marker='o', color='w', label='Quasars',\n",
    "                          markerfacecolor='#e41a1c', markersize=10)]\n",
    "alphas = [0.1, 0.2, 0.2]\n",
    "\n",
    "plt.figure(figsize=(20, 6))\n",
    "# Plot for star vs. quasar\n",
    "plt.subplot(1, 3, 1)  # This allows us to have two plots side by side\n",
    "for target in star_quasar.keys():\n",
    "    subset = SDSS[SDSS['Target'] == target]\n",
    "    plt.scatter(subset['psf_u-g'], subset['psf_g-r'], c=target_colors[target],\n",
    "                alpha=alphas[target], label=target)\n",
    "plt.xlabel('u-g')\n",
    "plt.ylabel('g-r')\n",
    "plt.xlim([-2,6])\n",
    "plt.ylim([-1,3])\n",
    "plt.title('Star vs. Quasar Distribution')\n",
    "plt.grid(True, alpha = 0.3)\n",
    "# We will create the legend later to avoid duplication\n",
    "\n",
    "# Plot for galaxy vs. quasar\n",
    "plt.subplot(1, 3, 2)\n",
    "for target in galaxy_quasar.keys():\n",
    "    subset = SDSS[SDSS['Target'] == target]\n",
    "    plt.scatter(subset['psf_u-g'], subset['psf_g-r'], c=target_colors[target],\n",
    "                alpha=alphas[target], label=target)\n",
    "plt.xlabel('u-g')\n",
    "plt.ylabel('g-r')\n",
    "plt.xlim([-2,6])\n",
    "plt.ylim([-1,3])\n",
    "plt.title('Galaxy vs. Quasar Distribution')\n",
    "plt.grid(True, alpha = 0.3)\n",
    "\n",
    "# Plot for combined\n",
    "plt.subplot(1, 3, 3)\n",
    "for target in target_colors.keys():\n",
    "    subset = SDSS[SDSS['Target'] == target]\n",
    "    plt.scatter(subset['psf_u-g'], subset['psf_g-r'], c=target_colors[target],\n",
    "                alpha=alphas[target], label=target)\n",
    "plt.xlabel('u-g')\n",
    "plt.ylabel('g-r')\n",
    "plt.xlim([-2,6])\n",
    "plt.ylim([-1,3])\n",
    "plt.title('Star vs. Galaxy vs. Quasar Distribution')\n",
    "plt.grid(True, alpha = 0.3)\n",
    "\n",
    "# Since the legend will be the same for both, we only need to create it once.\n",
    "plt.figlegend(handles=legend_elements, loc='upper center', ncol=3)\n",
    "\n",
    "# Show the plot with both the PSF and Petro colors\n",
    "plt.show()"
   ]
  },
  {
   "cell_type": "code",
   "execution_count": null,
   "metadata": {
    "collapsed": false,
    "pycharm": {
     "name": "#%%\n"
    }
   },
   "outputs": [],
   "source": [
    "category_numeric = {0: 1, 1: 2, 2: 3}\n",
    "SDSS['Category_numeric'] = SDSS['Target'].map(category_numeric)\n",
    "\n",
    "# Set a seed for reproducibility\n",
    "np.random.seed(0)\n",
    "\n",
    "# Define the amount of jitter\n",
    "jitter_amount = 0.05\n",
    "\n",
    "plt.figure(figsize=(10, 6))\n",
    "\n",
    "# Iterate over the categories and plot each one with jitter\n",
    "for target in target_colors.keys():\n",
    "    subset = SDSS[SDSS['Target'] == target]\n",
    "    # Apply jitter by adding a small random number to the 'Category_numeric' values\n",
    "    jittered_y = subset['Category_numeric'] + np.random.normal(0, jitter_amount, size=len(subset))\n",
    "    plt.scatter(subset['z'], jittered_y, c=target_colors[target],\n",
    "                alpha=alphas[target], label=target)\n",
    "\n",
    "plt.yticks([1, 2, 3], ['Stars', 'Galaxies', 'Quasars'])\n",
    "plt.xlabel('Redshift (z)')\n",
    "plt.ylabel('Category')\n",
    "plt.title('Distribution of Objects by Distance')\n",
    "plt.grid(True, which='both', linestyle='--', linewidth=0.5, alpha=0.7)\n",
    "plt.legend(handles=legend_elements)\n",
    "plt.show()"
   ]
  }
 ],
 "metadata": {
  "kernelspec": {
   "display_name": "Python 3",
   "language": "python",
   "name": "python3"
  },
  "language_info": {
   "codemirror_mode": {
    "name": "ipython",
    "version": 2
   },
   "file_extension": ".py",
   "mimetype": "text/x-python",
   "name": "python",
   "nbconvert_exporter": "python",
   "pygments_lexer": "ipython2",
   "version": "2.7.6"
  }
 },
 "nbformat": 4,
 "nbformat_minor": 0
}
