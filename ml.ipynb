{
 "cells": [
  {
   "cell_type": "code",
   "execution_count": 9,
   "metadata": {},
   "outputs": [],
   "source": [
    "import numpy as np\n",
    "import pandas as pd\n",
    "import matplotlib.pyplot as plt\n",
    "\n",
    "from xgboost import XGBClassifier\n",
    "\n",
    "from sklearn.ensemble import RandomForestClassifier\n",
    "from sklearn.feature_selection import RFE, SelectKBest, chi2, SelectKBest, mutual_info_classif\n",
    "from sklearn.metrics import precision_score, recall_score, f1_score, average_precision_score, make_scorer, average_precision_score\n",
    "from sklearn.model_selection import train_test_split, GridSearchCV\n",
    "from sklearn.svm import SVC\n",
    "from sklearn.tree import DecisionTreeClassifier\n",
    "from sklearn.neighbors import KNeighborsClassifier\n",
    "from sklearn.svm import SVC\n",
    "from sklearn.calibration import CalibratedClassifierCV\n",
    "from sklearn.neighbors import KNeighborsClassifier"
   ]
  },
  {
   "cell_type": "code",
   "execution_count": 13,
   "metadata": {},
   "outputs": [],
   "source": [
    "# change the names accordingly\n",
    "df = pd.read_csv(\"final_for_ml.csv\")\n",
    "X = df.drop('Outcome', axis=1)\n",
    "y = df['Outcome']\n",
    "X_train, X_test, y_train, y_test = train_test_split(X, y, test_size=0.3)\n",
    "X_train = X_train.to_numpy()\n",
    "X_test = X_test.to_numpy()\n",
    "y_train = y_train.to_numpy()\n",
    "y_test = y_test.to_numpy()"
   ]
  },
  {
   "cell_type": "markdown",
   "metadata": {},
   "source": [
    "Preliminary Model Running \n",
    "\n",
    "Decision Tree, Random Forest, SVM, KNN, neural networks, and XGBoost"
   ]
  },
  {
   "cell_type": "code",
   "execution_count": 14,
   "metadata": {},
   "outputs": [],
   "source": [
    "def metrics(y_test, y_pred, y_scores):\n",
    "    precision = precision_score(y_test, y_pred)\n",
    "    recall = recall_score(y_test, y_pred)\n",
    "    f1 = f1_score(y_test, y_pred)\n",
    "    auc_pr = average_precision_score(y_test, y_scores)\n",
    "    return precision, recall, f1, auc_pr"
   ]
  },
  {
   "cell_type": "code",
   "execution_count": 15,
   "metadata": {},
   "outputs": [
    {
     "name": "stdout",
     "output_type": "stream",
     "text": [
      "Decision Tree - Precision: 0.5578947368421052, Recall: 0.5602536997885835, F1 Score: 0.559071729957806, AUC-PR: 0.5513685605576214\n"
     ]
    }
   ],
   "source": [
    "dt = DecisionTreeClassifier()\n",
    "dt.fit(X_train, y_train)\n",
    "y_pred_dt = dt.predict(X_test)\n",
    "y_scores_dt = dt.predict_proba(X_test)[:, 1]\n",
    "\n",
    "precision, recall, f1, auc_pr = metrics(y_test, y_pred_dt, y_scores_dt)\n",
    "print(f\"Decision Tree - Precision: {precision}, Recall: {recall}, F1 Score: {f1}, AUC-PR: {auc_pr}\")"
   ]
  },
  {
   "cell_type": "code",
   "execution_count": 16,
   "metadata": {},
   "outputs": [
    {
     "name": "stdout",
     "output_type": "stream",
     "text": [
      "Random Forest - Precision: 0.5734513274336284, Recall: 0.6849894291754757, F1 Score: 0.6242774566473989, AUC-PR: 0.5859312185986763\n"
     ]
    }
   ],
   "source": [
    "rf = RandomForestClassifier()\n",
    "rf.fit(X_train, y_train)\n",
    "y_pred_rf = rf.predict(X_test)\n",
    "y_scores_rf = rf.predict_proba(X_test)[:, 1]\n",
    "\n",
    "precision_rf, recall_rf, f1_rf, auc_pr_rf = metrics(y_test, y_pred_rf, y_scores_rf)\n",
    "print(f\"Random Forest - Precision: {precision_rf}, Recall: {recall_rf}, F1 Score: {f1_rf}, AUC-PR: {auc_pr_rf}\")"
   ]
  },
  {
   "cell_type": "code",
   "execution_count": 19,
   "metadata": {},
   "outputs": [
    {
     "name": "stdout",
     "output_type": "stream",
     "text": [
      "AUC-ROC: 0.5299648347445471\n",
      "SVM - Precision: 0.5462304409672831, Recall: 0.8118393234672304, F1 Score: 0.6530612244897961, AUC-PR: 0.5666947402900635\n"
     ]
    }
   ],
   "source": [
    "svm = CalibratedClassifierCV(SVC())\n",
    "svm.fit(X_train, y_train)\n",
    "y_pred_svm = svm.predict(X_test)\n",
    "y_scores_svm = svm.predict_proba(X_test)[:, 1]\n",
    "\n",
    "precision_svm, recall_svm, f1_svm, auc_pr_svm = metrics(y_test, y_pred_svm, y_scores_svm)\n",
    "print(f\"SVM - Precision: {precision_svm}, Recall: {recall_svm}, F1 Score: {f1_svm}, AUC-PR: {auc_pr_svm}\")"
   ]
  },
  {
   "cell_type": "code",
   "execution_count": 25,
   "metadata": {},
   "outputs": [
    {
     "name": "stdout",
     "output_type": "stream",
     "text": [
      "KNN - Precision: 0.5573333333333333, Recall: 0.4418604651162791, F1 Score: 0.4929245283018868, AUC-PR: 0.5583585014802174\n"
     ]
    }
   ],
   "source": [
    "knn = KNeighborsClassifier()\n",
    "knn.fit(X_train, y_train)\n",
    "y_pred_knn = knn.predict(X_test)\n",
    "y_scores_knn = knn.predict_proba(X_test)[:, 1]\n",
    "\n",
    "precision_knn, recall_knn, f1_knn, auc_pr_knn = metrics(y_test, y_pred_knn, y_scores_knn)\n",
    "print(f\"KNN - Precision: {precision_knn}, Recall: {recall_knn}, F1 Score: {f1_knn}, AUC-PR: {auc_pr_knn}\")"
   ]
  },
  {
   "cell_type": "code",
   "execution_count": 26,
   "metadata": {},
   "outputs": [
    {
     "name": "stdout",
     "output_type": "stream",
     "text": [
      "XGBoost - Precision: 0.5708502024291497, Recall: 0.5961945031712473, F1 Score: 0.5832471561530507, AUC-PR: 0.5628932547022664\n"
     ]
    }
   ],
   "source": [
    "xgb = XGBClassifier()\n",
    "xgb.fit(X_train, y_train)\n",
    "y_pred_xgb = xgb.predict(X_test)\n",
    "y_scores_xgb = xgb.predict_proba(X_test)[:, 1]\n",
    "\n",
    "precision_xgb, recall_xgb, f1_xgb, auc_pr_xgb = metrics(y_test, y_pred_xgb, y_scores_xgb)\n",
    "print(f\"XGBoost - Precision: {precision_xgb}, Recall: {recall_xgb}, F1 Score: {f1_xgb}, AUC-PR: {auc_pr_xgb}\")"
   ]
  },
  {
   "cell_type": "markdown",
   "metadata": {},
   "source": [
    "Hyperparameter Tuning"
   ]
  },
  {
   "cell_type": "code",
   "execution_count": null,
   "metadata": {},
   "outputs": [],
   "source": [
    "auc_pr_scorer = make_scorer(average_precision_score, needs_proba=True)\n",
    "param_grid = {\n",
    "    'criterion': ['gini', 'entropy'],\n",
    "    'max_depth': [None, 10, 20, 30, 40, 50],\n",
    "    'min_samples_split': [2, 5, 10],\n",
    "    'min_samples_leaf': [1, 2, 4],\n",
    "    'max_features': [None, 'sqrt', 'log2']\n",
    "}\n",
    "tree = DecisionTreeClassifier()\n",
    "grid_search = GridSearchCV(tree, param_grid, cv=5, scoring=auc_pr_scorer, verbose=1, n_jobs=-1)\n",
    "grid_search.fit(X_train, y_train)\n",
    "print(\"Best parameters:\", grid_search.best_params_)\n",
    "print(\"Best AUC-PR score:\", grid_search.best_score_)"
   ]
  },
  {
   "cell_type": "code",
   "execution_count": null,
   "metadata": {},
   "outputs": [],
   "source": [
    "auc_pr_scorer = make_scorer(average_precision_score, needs_proba=True)\n",
    "param_grid_rf = {\n",
    "    'n_estimators': [10, 50, 100, 200], \n",
    "    'max_depth': [None, 10, 20, 30],\n",
    "    'min_samples_split': [2, 5, 10],\n",
    "    'min_samples_leaf': [1, 2, 4],\n",
    "    'bootstrap': [True, False],\n",
    "    'max_features': ['auto', 'sqrt']\n",
    "}\n",
    "\n",
    "rf = RandomForestClassifier()\n",
    "grid_search_rf = GridSearchCV(rf, param_grid_rf, cv=5, scoring=auc_pr_scorer, verbose=1, n_jobs=-1)\n",
    "grid_search_rf.fit(X_train, y_train)\n",
    "print(\"Best parameters for Random Forest:\", grid_search_rf.best_params_)\n",
    "print(\"Best AUC-PR score for Random Forest:\", grid_search_rf.best_score_)"
   ]
  },
  {
   "cell_type": "code",
   "execution_count": null,
   "metadata": {},
   "outputs": [],
   "source": [
    "auc_pr_scorer = make_scorer(average_precision_score, needs_proba=True)\n",
    "param_grid_svm = {\n",
    "    'base_estimator__C': [0.001, 0.1, 1, 10],\n",
    "    'base_estimator__kernel': ['linear', 'rbf', 'poly'],\n",
    "    'base_estimator__gamma': ['scale', 'auto']\n",
    "}\n",
    "\n",
    "svm = CalibratedClassifierCV(SVC(), cv=3)\n",
    "grid_search_svm = GridSearchCV(svm, param_grid_svm, cv=5, scoring=auc_pr_scorer, verbose=1, n_jobs=-1)\n",
    "grid_search_svm.fit(X_train, y_train)\n",
    "\n",
    "print(\"Best parameters for SVM:\", grid_search_svm.best_params_)\n",
    "print(\"Best AUC-PR score for SVM:\", grid_search_svm.best_score_)"
   ]
  },
  {
   "cell_type": "code",
   "execution_count": null,
   "metadata": {},
   "outputs": [],
   "source": [
    "auc_pr_scorer = make_scorer(average_precision_score, needs_proba=True)\n",
    "\n",
    "param_grid_knn = {\n",
    "    'n_neighbors': [3, 5, 7, 10],\n",
    "    'weights': ['uniform', 'distance'],\n",
    "    'metric': ['euclidean', 'manhattan']\n",
    "}\n",
    "\n",
    "knn = KNeighborsClassifier()\n",
    "grid_search_knn = GridSearchCV(knn, param_grid_knn, cv=5, scoring=auc_pr_scorer, verbose=1, n_jobs=-1)\n",
    "grid_search_knn.fit(X_train, y_train)\n",
    "\n",
    "print(\"Best parameters for KNN:\", grid_search_knn.best_params_)\n",
    "print(\"Best AUC-PR score for KNN:\", grid_search_knn.best_score_)"
   ]
  },
  {
   "cell_type": "code",
   "execution_count": null,
   "metadata": {},
   "outputs": [],
   "source": [
    "auc_pr_scorer = make_scorer(average_precision_score, needs_proba=True)\n",
    "\n",
    "param_grid_xgb = {\n",
    "    'n_estimators': [50, 100, 200, 300], \n",
    "    'learning_rate': [0.01, 0.1, 0.2, 0.5, 1], \n",
    "    'max_depth': [None, 3, 5, 10], \n",
    "    'subsample': [0.3, 0.5, 0.8, 1.0]\n",
    "}\n",
    "\n",
    "xgb = XGBClassifier(use_label_encoder=False, eval_metric='logloss')\n",
    "grid_search_xgb = GridSearchCV(xgb, param_grid_xgb, cv=5, scoring=auc_pr_scorer, verbose=1, n_jobs=-1)\n",
    "grid_search_xgb.fit(X_train, y_train)\n",
    "\n",
    "print(\"Best parameters for XGBoost:\", grid_search_xgb.best_params_)\n",
    "print(\"Best AUC-PR score for XGBoost:\", grid_search_xgb.best_score_)"
   ]
  }
 ],
 "metadata": {
  "kernelspec": {
   "display_name": "Python 3",
   "language": "python",
   "name": "python3"
  },
  "language_info": {
   "codemirror_mode": {
    "name": "ipython",
    "version": 3
   },
   "file_extension": ".py",
   "mimetype": "text/x-python",
   "name": "python",
   "nbconvert_exporter": "python",
   "pygments_lexer": "ipython3",
   "version": "3.11.1"
  }
 },
 "nbformat": 4,
 "nbformat_minor": 2
}
